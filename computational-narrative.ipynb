{
 "cells": [
  {
   "cell_type": "markdown",
   "metadata": {},
   "source": [
    "# Monte Carlo example\n",
    "\n",
    "The following equations are used:\n",
    "\n",
    "- square area = $(2 r)^2$\n",
    "- circle area = $\\pi r^2$\n",
    "- circle / square = $\\pi r^2 / 4 r^2$ = $\\pi / 4$\n",
    "- $\\pi$ = 4 * (circle/square)"
   ]
  },
  {
   "cell_type": "markdown",
   "metadata": {},
   "source": [
    "The idea of the problem is to calculate how many darts randomly thrown into a square area fall into the circle\n",
    "\n",
    "![Darts](https://coderefinery.github.io/jupyter/img/darts.svg)\n",
    "\n",
    "and how we can get an approximation to $\\pi$ from that"
   ]
  },
  {
   "cell_type": "code",
   "execution_count": null,
   "metadata": {},
   "outputs": [],
   "source": []
  }
 ],
 "metadata": {
  "kernelspec": {
   "display_name": "Python 3",
   "language": "python",
   "name": "python3"
  },
  "language_info": {
   "codemirror_mode": {
    "name": "ipython",
    "version": 3
   },
   "file_extension": ".py",
   "mimetype": "text/x-python",
   "name": "python",
   "nbconvert_exporter": "python",
   "pygments_lexer": "ipython3",
   "version": "3.7.3"
  }
 },
 "nbformat": 4,
 "nbformat_minor": 4
}
